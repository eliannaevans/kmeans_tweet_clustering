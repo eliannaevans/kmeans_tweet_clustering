{
  "nbformat": 4,
  "nbformat_minor": 0,
  "metadata": {
    "colab": {
      "name": "CS4375_Assignment3.ipynb",
      "provenance": [],
      "collapsed_sections": []
    },
    "kernelspec": {
      "name": "python3",
      "display_name": "Python 3"
    },
    "language_info": {
      "name": "python"
    }
  },
  "cells": [
    {
      "cell_type": "code",
      "metadata": {
        "colab": {
          "base_uri": "https://localhost:8080/"
        },
        "id": "aFxrosswSjOb",
        "outputId": "34542e44-7404-493a-93d6-1bc268afd089"
      },
      "source": [
        "pip install tweet-preprocessor"
      ],
      "execution_count": 27,
      "outputs": [
        {
          "output_type": "stream",
          "name": "stdout",
          "text": [
            "Requirement already satisfied: tweet-preprocessor in /usr/local/lib/python3.7/dist-packages (0.6.0)\n"
          ]
        }
      ]
    },
    {
      "cell_type": "code",
      "metadata": {
        "id": "xWXgH--OUL1A"
      },
      "source": [
        "import pandas as pd\n",
        "import preprocessor as p\n",
        "import random"
      ],
      "execution_count": 28,
      "outputs": []
    },
    {
      "cell_type": "markdown",
      "metadata": {
        "id": "Br7paA1T5It8"
      },
      "source": [
        "# Preprocessing"
      ]
    },
    {
      "cell_type": "code",
      "metadata": {
        "colab": {
          "base_uri": "https://localhost:8080/",
          "height": 419
        },
        "id": "YKKNPam0UyrK",
        "outputId": "2ca1c84d-f0cc-4434-e81b-7f004aa5cc49"
      },
      "source": [
        "data_url = \"https://raw.githubusercontent.com/eliannaevans/kmeans_tweet_clustering/af88a362c710aeb7733eb47deca085da59fd95c3/bbchealth.txt\"\n",
        "data = pd.read_csv(data_url, sep='|', names=['id','time','tweet'])\n",
        "data"
      ],
      "execution_count": 29,
      "outputs": [
        {
          "output_type": "execute_result",
          "data": {
            "text/html": [
              "<div>\n",
              "<style scoped>\n",
              "    .dataframe tbody tr th:only-of-type {\n",
              "        vertical-align: middle;\n",
              "    }\n",
              "\n",
              "    .dataframe tbody tr th {\n",
              "        vertical-align: top;\n",
              "    }\n",
              "\n",
              "    .dataframe thead th {\n",
              "        text-align: right;\n",
              "    }\n",
              "</style>\n",
              "<table border=\"1\" class=\"dataframe\">\n",
              "  <thead>\n",
              "    <tr style=\"text-align: right;\">\n",
              "      <th></th>\n",
              "      <th>id</th>\n",
              "      <th>time</th>\n",
              "      <th>tweet</th>\n",
              "    </tr>\n",
              "  </thead>\n",
              "  <tbody>\n",
              "    <tr>\n",
              "      <th>0</th>\n",
              "      <td>585978391360221184</td>\n",
              "      <td>Thu Apr 09 01:31:50 +0000 2015</td>\n",
              "      <td>Breast cancer risk test devised http://bbc.in/...</td>\n",
              "    </tr>\n",
              "    <tr>\n",
              "      <th>1</th>\n",
              "      <td>585947808772960257</td>\n",
              "      <td>Wed Apr 08 23:30:18 +0000 2015</td>\n",
              "      <td>GP workload harming care - BMA poll http://bbc...</td>\n",
              "    </tr>\n",
              "    <tr>\n",
              "      <th>2</th>\n",
              "      <td>585947807816650752</td>\n",
              "      <td>Wed Apr 08 23:30:18 +0000 2015</td>\n",
              "      <td>Short people's 'heart risk greater' http://bbc...</td>\n",
              "    </tr>\n",
              "    <tr>\n",
              "      <th>3</th>\n",
              "      <td>585866060991078401</td>\n",
              "      <td>Wed Apr 08 18:05:28 +0000 2015</td>\n",
              "      <td>New approach against HIV 'promising' http://bb...</td>\n",
              "    </tr>\n",
              "    <tr>\n",
              "      <th>4</th>\n",
              "      <td>585794106170839041</td>\n",
              "      <td>Wed Apr 08 13:19:33 +0000 2015</td>\n",
              "      <td>Coalition 'undermined NHS' - doctors http://bb...</td>\n",
              "    </tr>\n",
              "    <tr>\n",
              "      <th>...</th>\n",
              "      <td>...</td>\n",
              "      <td>...</td>\n",
              "      <td>...</td>\n",
              "    </tr>\n",
              "    <tr>\n",
              "      <th>3924</th>\n",
              "      <td>384766023120871424</td>\n",
              "      <td>Mon Sep 30 19:45:43 +0000 2013</td>\n",
              "      <td>Baby born after ovaries 'reawakened' http://bb...</td>\n",
              "    </tr>\n",
              "    <tr>\n",
              "      <th>3925</th>\n",
              "      <td>384700230920175617</td>\n",
              "      <td>Mon Sep 30 15:24:17 +0000 2013</td>\n",
              "      <td>Identical triplets born against odds http://bb...</td>\n",
              "    </tr>\n",
              "    <tr>\n",
              "      <th>3926</th>\n",
              "      <td>384678543088562178</td>\n",
              "      <td>Mon Sep 30 13:58:06 +0000 2013</td>\n",
              "      <td>Hospital failed to make improvements http://bb...</td>\n",
              "    </tr>\n",
              "    <tr>\n",
              "      <th>3927</th>\n",
              "      <td>384678542455222273</td>\n",
              "      <td>Mon Sep 30 13:58:06 +0000 2013</td>\n",
              "      <td>New patient targets pledge for NHS http://bbc....</td>\n",
              "    </tr>\n",
              "    <tr>\n",
              "      <th>3928</th>\n",
              "      <td>384569546108964864</td>\n",
              "      <td>Mon Sep 30 06:44:59 +0000 2013</td>\n",
              "      <td>C. diff 'manslaughter' inquiry call http://bbc...</td>\n",
              "    </tr>\n",
              "  </tbody>\n",
              "</table>\n",
              "<p>3929 rows × 3 columns</p>\n",
              "</div>"
            ],
            "text/plain": [
              "                      id  ...                                              tweet\n",
              "0     585978391360221184  ...  Breast cancer risk test devised http://bbc.in/...\n",
              "1     585947808772960257  ...  GP workload harming care - BMA poll http://bbc...\n",
              "2     585947807816650752  ...  Short people's 'heart risk greater' http://bbc...\n",
              "3     585866060991078401  ...  New approach against HIV 'promising' http://bb...\n",
              "4     585794106170839041  ...  Coalition 'undermined NHS' - doctors http://bb...\n",
              "...                  ...  ...                                                ...\n",
              "3924  384766023120871424  ...  Baby born after ovaries 'reawakened' http://bb...\n",
              "3925  384700230920175617  ...  Identical triplets born against odds http://bb...\n",
              "3926  384678543088562178  ...  Hospital failed to make improvements http://bb...\n",
              "3927  384678542455222273  ...  New patient targets pledge for NHS http://bbc....\n",
              "3928  384569546108964864  ...  C. diff 'manslaughter' inquiry call http://bbc...\n",
              "\n",
              "[3929 rows x 3 columns]"
            ]
          },
          "metadata": {},
          "execution_count": 29
        }
      ]
    },
    {
      "cell_type": "code",
      "metadata": {
        "colab": {
          "base_uri": "https://localhost:8080/",
          "height": 419
        },
        "id": "0wCmeGGoRHts",
        "outputId": "cd36a158-3f5e-487f-f366-d196f380cdeb"
      },
      "source": [
        "# remove id and timestamp\n",
        "data = data.drop(labels=['id', 'time'], axis=1)\n",
        "data"
      ],
      "execution_count": 30,
      "outputs": [
        {
          "output_type": "execute_result",
          "data": {
            "text/html": [
              "<div>\n",
              "<style scoped>\n",
              "    .dataframe tbody tr th:only-of-type {\n",
              "        vertical-align: middle;\n",
              "    }\n",
              "\n",
              "    .dataframe tbody tr th {\n",
              "        vertical-align: top;\n",
              "    }\n",
              "\n",
              "    .dataframe thead th {\n",
              "        text-align: right;\n",
              "    }\n",
              "</style>\n",
              "<table border=\"1\" class=\"dataframe\">\n",
              "  <thead>\n",
              "    <tr style=\"text-align: right;\">\n",
              "      <th></th>\n",
              "      <th>tweet</th>\n",
              "    </tr>\n",
              "  </thead>\n",
              "  <tbody>\n",
              "    <tr>\n",
              "      <th>0</th>\n",
              "      <td>Breast cancer risk test devised http://bbc.in/...</td>\n",
              "    </tr>\n",
              "    <tr>\n",
              "      <th>1</th>\n",
              "      <td>GP workload harming care - BMA poll http://bbc...</td>\n",
              "    </tr>\n",
              "    <tr>\n",
              "      <th>2</th>\n",
              "      <td>Short people's 'heart risk greater' http://bbc...</td>\n",
              "    </tr>\n",
              "    <tr>\n",
              "      <th>3</th>\n",
              "      <td>New approach against HIV 'promising' http://bb...</td>\n",
              "    </tr>\n",
              "    <tr>\n",
              "      <th>4</th>\n",
              "      <td>Coalition 'undermined NHS' - doctors http://bb...</td>\n",
              "    </tr>\n",
              "    <tr>\n",
              "      <th>...</th>\n",
              "      <td>...</td>\n",
              "    </tr>\n",
              "    <tr>\n",
              "      <th>3924</th>\n",
              "      <td>Baby born after ovaries 'reawakened' http://bb...</td>\n",
              "    </tr>\n",
              "    <tr>\n",
              "      <th>3925</th>\n",
              "      <td>Identical triplets born against odds http://bb...</td>\n",
              "    </tr>\n",
              "    <tr>\n",
              "      <th>3926</th>\n",
              "      <td>Hospital failed to make improvements http://bb...</td>\n",
              "    </tr>\n",
              "    <tr>\n",
              "      <th>3927</th>\n",
              "      <td>New patient targets pledge for NHS http://bbc....</td>\n",
              "    </tr>\n",
              "    <tr>\n",
              "      <th>3928</th>\n",
              "      <td>C. diff 'manslaughter' inquiry call http://bbc...</td>\n",
              "    </tr>\n",
              "  </tbody>\n",
              "</table>\n",
              "<p>3929 rows × 1 columns</p>\n",
              "</div>"
            ],
            "text/plain": [
              "                                                  tweet\n",
              "0     Breast cancer risk test devised http://bbc.in/...\n",
              "1     GP workload harming care - BMA poll http://bbc...\n",
              "2     Short people's 'heart risk greater' http://bbc...\n",
              "3     New approach against HIV 'promising' http://bb...\n",
              "4     Coalition 'undermined NHS' - doctors http://bb...\n",
              "...                                                 ...\n",
              "3924  Baby born after ovaries 'reawakened' http://bb...\n",
              "3925  Identical triplets born against odds http://bb...\n",
              "3926  Hospital failed to make improvements http://bb...\n",
              "3927  New patient targets pledge for NHS http://bbc....\n",
              "3928  C. diff 'manslaughter' inquiry call http://bbc...\n",
              "\n",
              "[3929 rows x 1 columns]"
            ]
          },
          "metadata": {},
          "execution_count": 30
        }
      ]
    },
    {
      "cell_type": "code",
      "metadata": {
        "colab": {
          "base_uri": "https://localhost:8080/",
          "height": 419
        },
        "id": "YuRYdNpFSpLS",
        "outputId": "e658a8dc-6ff7-4f20-90ff-90b5695f42d2"
      },
      "source": [
        "p.set_options(p.OPT.MENTION, p.OPT.URL)\n",
        "cleaned_tweets = data\n",
        "\n",
        "for i, tweet in enumerate(data['tweet']):\n",
        "  tweet = tweet.lower() # bring all text to lowercase\n",
        "  tweet.replace('#', '') # remove hash symbol\n",
        "  cleaned_tweets.loc[i, 'tweet'] = p.clean(tweet) # remove @ mentions, urls\n",
        "\n",
        "cleaned_tweets"
      ],
      "execution_count": 31,
      "outputs": [
        {
          "output_type": "execute_result",
          "data": {
            "text/html": [
              "<div>\n",
              "<style scoped>\n",
              "    .dataframe tbody tr th:only-of-type {\n",
              "        vertical-align: middle;\n",
              "    }\n",
              "\n",
              "    .dataframe tbody tr th {\n",
              "        vertical-align: top;\n",
              "    }\n",
              "\n",
              "    .dataframe thead th {\n",
              "        text-align: right;\n",
              "    }\n",
              "</style>\n",
              "<table border=\"1\" class=\"dataframe\">\n",
              "  <thead>\n",
              "    <tr style=\"text-align: right;\">\n",
              "      <th></th>\n",
              "      <th>tweet</th>\n",
              "    </tr>\n",
              "  </thead>\n",
              "  <tbody>\n",
              "    <tr>\n",
              "      <th>0</th>\n",
              "      <td>breast cancer risk test devised</td>\n",
              "    </tr>\n",
              "    <tr>\n",
              "      <th>1</th>\n",
              "      <td>gp workload harming care - bma poll</td>\n",
              "    </tr>\n",
              "    <tr>\n",
              "      <th>2</th>\n",
              "      <td>short people's 'heart risk greater'</td>\n",
              "    </tr>\n",
              "    <tr>\n",
              "      <th>3</th>\n",
              "      <td>new approach against hiv 'promising'</td>\n",
              "    </tr>\n",
              "    <tr>\n",
              "      <th>4</th>\n",
              "      <td>coalition 'undermined nhs' - doctors</td>\n",
              "    </tr>\n",
              "    <tr>\n",
              "      <th>...</th>\n",
              "      <td>...</td>\n",
              "    </tr>\n",
              "    <tr>\n",
              "      <th>3924</th>\n",
              "      <td>baby born after ovaries 'reawakened'</td>\n",
              "    </tr>\n",
              "    <tr>\n",
              "      <th>3925</th>\n",
              "      <td>identical triplets born against odds</td>\n",
              "    </tr>\n",
              "    <tr>\n",
              "      <th>3926</th>\n",
              "      <td>hospital failed to make improvements</td>\n",
              "    </tr>\n",
              "    <tr>\n",
              "      <th>3927</th>\n",
              "      <td>new patient targets pledge for nhs</td>\n",
              "    </tr>\n",
              "    <tr>\n",
              "      <th>3928</th>\n",
              "      <td>c. diff 'manslaughter' inquiry call</td>\n",
              "    </tr>\n",
              "  </tbody>\n",
              "</table>\n",
              "<p>3929 rows × 1 columns</p>\n",
              "</div>"
            ],
            "text/plain": [
              "                                     tweet\n",
              "0          breast cancer risk test devised\n",
              "1      gp workload harming care - bma poll\n",
              "2      short people's 'heart risk greater'\n",
              "3     new approach against hiv 'promising'\n",
              "4     coalition 'undermined nhs' - doctors\n",
              "...                                    ...\n",
              "3924  baby born after ovaries 'reawakened'\n",
              "3925  identical triplets born against odds\n",
              "3926  hospital failed to make improvements\n",
              "3927    new patient targets pledge for nhs\n",
              "3928   c. diff 'manslaughter' inquiry call\n",
              "\n",
              "[3929 rows x 1 columns]"
            ]
          },
          "metadata": {},
          "execution_count": 31
        }
      ]
    },
    {
      "cell_type": "markdown",
      "metadata": {
        "id": "9qa54Vak5Onk"
      },
      "source": [
        "# K-means clustering functions"
      ]
    },
    {
      "cell_type": "code",
      "metadata": {
        "id": "T18cVH0NrYtT"
      },
      "source": [
        "def init_centroids(cleaned_tweets, k): # pick random points to be the first centroids\n",
        "  centroids = []\n",
        "  for cluster in range(k):\n",
        "    row = None\n",
        "    while True:\n",
        "      row = random.randint(0, len(cleaned_tweets.index))\n",
        "      if row not in centroids: break\n",
        "    centroids.append(row)\n",
        "  print(\"Initial centroids picked\")\n",
        "  return centroids"
      ],
      "execution_count": 32,
      "outputs": []
    },
    {
      "cell_type": "code",
      "metadata": {
        "id": "aRPupYJDs1af"
      },
      "source": [
        "# Jaccard distance function\n",
        "def jaccard_distance(tweet1, tweet2):\n",
        "  return 1 - (1.0*intersection(tweet1, tweet2) / union(tweet1, tweet2))\n",
        "\n",
        "# intersection function\n",
        "def intersection(tweet1, tweet2):\n",
        "  intersection = 0\n",
        "  tweet1_words = list(dict.fromkeys(tweet1.split())) # remove duplicate words\n",
        "  tweet2_words = list(dict.fromkeys(tweet2.split()))\n",
        "\n",
        "  for word in tweet1_words:\n",
        "    if word in tweet2_words:\n",
        "        intersection += 1\n",
        "\n",
        "  return intersection\n",
        "\n",
        "# union function\n",
        "def union(tweet1, tweet2):\n",
        "  tweet1_words = list(dict.fromkeys(tweet1.split())) # remove duplicate words\n",
        "  tweet2_words = list(dict.fromkeys(tweet2.split()))\n",
        "  union = len(tweet1_words) + len(tweet2_words)\n",
        "\n",
        "  for word1 in tweet1_words:\n",
        "    for word2 in tweet2_words:\n",
        "      if word1 == word2: union -= 1\n",
        "\n",
        "  return union"
      ],
      "execution_count": 33,
      "outputs": []
    },
    {
      "cell_type": "code",
      "metadata": {
        "id": "vMeYK9na5Z2M"
      },
      "source": [
        "# function to get tweet given row_index\n",
        "def twt(cleaned_tweets, row_index):\n",
        "  return cleaned_tweets.loc[row_index, 'tweet']"
      ],
      "execution_count": 34,
      "outputs": []
    },
    {
      "cell_type": "code",
      "metadata": {
        "id": "ysbcnz6s2Bu7"
      },
      "source": [
        "def assign_cluster(cleaned_tweets, centroids):\n",
        "  # create 'clusters' via dictionary to be added to\n",
        "  cluster_dict = {}\n",
        "  for centroid in centroids:\n",
        "    cluster_dict[centroid] = []\n",
        "\n",
        "  # assign points to clusters based on centroid distance\n",
        "  for row_index in range(len(cleaned_tweets.index)):\n",
        "    smallest_distance = jaccard_distance(twt(cleaned_tweets, centroids[0]), twt(cleaned_tweets, row_index)) # auto set smallest distance to first centroid\n",
        "    closest_centroid = centroids[0]\n",
        "\n",
        "    # find closest centroid to given tweet\n",
        "    for centroid in centroids:\n",
        "      distance = jaccard_distance(twt(cleaned_tweets, centroid), twt(cleaned_tweets, row_index))\n",
        "      if distance < smallest_distance:\n",
        "        smallest_distance = distance\n",
        "        closest_centroid = centroid\n",
        "\n",
        "    # assign tweet to respective cluster\n",
        "    cluster_dict[closest_centroid].append(row_index)\n",
        "\n",
        "  print(\"Cluster assigned\")\n",
        "  return cluster_dict"
      ],
      "execution_count": 35,
      "outputs": []
    },
    {
      "cell_type": "code",
      "metadata": {
        "id": "uZfFdZCC7qb8"
      },
      "source": [
        "# compute sum of squared error\n",
        "def sse(cleaned_tweets, cluster_dict):\n",
        "  sse = 0\n",
        "  for centroid in list(cluster_dict.keys()):\n",
        "    for tweet in cluster_dict[centroid]:\n",
        "      sse += (jaccard_distance(twt(cleaned_tweets, centroid), twt(cleaned_tweets, tweet)))**2.0\n",
        "  return sse"
      ],
      "execution_count": 36,
      "outputs": []
    },
    {
      "cell_type": "code",
      "metadata": {
        "id": "VlOLjbEhmxTH"
      },
      "source": [
        "def new_centroid(cleaned_tweets, cluster_list):\n",
        "  new_centroid = cluster_list[0]\n",
        "  smallest_avg_distance = 0\n",
        "  for point in cluster_list:\n",
        "    smallest_avg_distance += jaccard_distance(twt(cleaned_tweets, new_centroid), twt(cleaned_tweets, point))\n",
        "  smallest_avg_distance /= 1.0*len(cluster_list)\n",
        "\n",
        "  for pot_centroid in cluster_list:\n",
        "    avg_distance = 0\n",
        "    for point in cluster_list:\n",
        "      avg_distance += jaccard_distance(twt(cleaned_tweets, pot_centroid), twt(cleaned_tweets, point))\n",
        "    avg_distance /= 1.0*len(cluster_list)\n",
        "    if avg_distance < smallest_avg_distance:\n",
        "      smallest_avg_distance = avg_distance\n",
        "      new_centroid = pot_centroid\n",
        "    \n",
        "  return new_centroid\n",
        "\n",
        "def find_centroids(cleaned_tweets, cluster_dict): # reassign centroids based on cluster average distance\n",
        "  new_cluster_dict = {}\n",
        "  for old_centroid in list(cluster_dict.keys()):\n",
        "    cluster = cluster_dict[old_centroid]\n",
        "    new_cluster_dict[new_centroid(cleaned_tweets, cluster)] = cluster_dict[old_centroid]\n",
        "\n",
        "  print(\"New centroids calculated\")\n",
        "  return new_cluster_dict"
      ],
      "execution_count": 37,
      "outputs": []
    },
    {
      "cell_type": "code",
      "metadata": {
        "id": "LGl_R-cP_-jR"
      },
      "source": [
        "def get_cluster_sizes(cluster_dict):\n",
        "  cluster_sizes = {}\n",
        "  for centroid, cluster_num in zip(list(cluster_dict.keys()), range(1, len(list(cluster_dict.keys())) + 1)):\n",
        "    cluster_sizes[cluster_num] = len(cluster_dict[centroid])\n",
        "  return cluster_sizes"
      ],
      "execution_count": 53,
      "outputs": []
    },
    {
      "cell_type": "code",
      "metadata": {
        "id": "LQacB_tE3Via"
      },
      "source": [
        "# function for running the k-means clustering algorithm\n",
        "def k_means_cluster(cleaned_tweets, k):\n",
        "  centroids = init_centroids(cleaned_tweets, k) # initialize random points as centroids\n",
        "  while True:\n",
        "    cluster_dict = assign_cluster(cleaned_tweets, centroids) # assign points to each centroid, getting dictionary with centroids as keys, member points as values\n",
        "    new_cluster_dict = find_centroids(cleaned_tweets, cluster_dict) # reassign centroid as smallest distance to all member tweets\n",
        "    centroids = list(new_cluster_dict.keys())\n",
        "    print(f\"SSE : {sse(cleaned_tweets, cluster_dict)}\")\n",
        "    if cluster_dict == new_cluster_dict: break # centroids have not changed, clustering is complete\n",
        "    else: cluster_dict = new_cluster_dict # another iteration is required\n",
        "  return {'Value of K': k, 'SSE': sse(cleaned_tweets, cluster_dict), 'Size of each cluster': get_cluster_sizes(cluster_dict)}"
      ],
      "execution_count": 55,
      "outputs": []
    },
    {
      "cell_type": "markdown",
      "metadata": {
        "id": "mmX9FJtJAtSX"
      },
      "source": [
        "# Run K-means clustering"
      ]
    },
    {
      "cell_type": "code",
      "metadata": {
        "colab": {
          "base_uri": "https://localhost:8080/",
          "height": 52
        },
        "id": "71bmvF_YA1tc",
        "outputId": "26bd568d-c412-4a45-b466-1524cfa9e0b7"
      },
      "source": [
        "table = pd.DataFrame(columns=['Value of K', 'SSE', 'Size of each cluster'])\n",
        "'''for k in [2, 5, 10, 20, 50, 100]:\n",
        "  table.append(k_means_cluster(cleaned_tweets, k))\n",
        "  print(f\"Finished k = {k}\")\n",
        "\n",
        "table'''"
      ],
      "execution_count": 42,
      "outputs": [
        {
          "output_type": "execute_result",
          "data": {
            "application/vnd.google.colaboratory.intrinsic+json": {
              "type": "string"
            },
            "text/plain": [
              "'for k in [2, 5, 10, 20, 50, 100]:\\n  table.append(k_means_cluster(cleaned_tweets, k))\\n  print(f\"Finished k = {k}\")\\n\\ntable'"
            ]
          },
          "metadata": {},
          "execution_count": 42
        }
      ]
    },
    {
      "cell_type": "code",
      "metadata": {
        "colab": {
          "base_uri": "https://localhost:8080/",
          "height": 168
        },
        "id": "wN1tDFuNJvzm",
        "outputId": "7a1d0ad0-2c9d-46d8-ecb8-b33910964532"
      },
      "source": [
        "k_10_dict = k_means_cluster(cleaned_tweets, 10) # rumtime approx. 5 minutes\n",
        "table = table.append(k_10_dict, ignore_index=True)\n",
        "table"
      ],
      "execution_count": 48,
      "outputs": [
        {
          "output_type": "stream",
          "name": "stdout",
          "text": [
            "Initial centroids picked\n",
            "Cluster assigned\n",
            "New centroids calculated\n",
            "Cluster assigned\n",
            "New centroids calculated\n",
            "Cluster assigned\n",
            "New centroids calculated\n"
          ]
        },
        {
          "output_type": "execute_result",
          "data": {
            "text/html": [
              "<div>\n",
              "<style scoped>\n",
              "    .dataframe tbody tr th:only-of-type {\n",
              "        vertical-align: middle;\n",
              "    }\n",
              "\n",
              "    .dataframe tbody tr th {\n",
              "        vertical-align: top;\n",
              "    }\n",
              "\n",
              "    .dataframe thead th {\n",
              "        text-align: right;\n",
              "    }\n",
              "</style>\n",
              "<table border=\"1\" class=\"dataframe\">\n",
              "  <thead>\n",
              "    <tr style=\"text-align: right;\">\n",
              "      <th></th>\n",
              "      <th>Value of K</th>\n",
              "      <th>SSE</th>\n",
              "      <th>Size of each cluster</th>\n",
              "    </tr>\n",
              "  </thead>\n",
              "  <tbody>\n",
              "  </tbody>\n",
              "</table>\n",
              "</div>"
            ],
            "text/plain": [
              "Empty DataFrame\n",
              "Columns: [Value of K, SSE, Size of each cluster]\n",
              "Index: []"
            ]
          },
          "metadata": {},
          "execution_count": 48
        }
      ]
    },
    {
      "cell_type": "code",
      "metadata": {
        "colab": {
          "base_uri": "https://localhost:8080/"
        },
        "id": "eWH2Qs3FVpdQ",
        "outputId": "bb617053-70f0-41ef-9cb1-18252f19b6af"
      },
      "source": [
        "k_10_dict"
      ],
      "execution_count": 49,
      "outputs": [
        {
          "output_type": "execute_result",
          "data": {
            "text/plain": [
              "{'SSE': 3279.904661786569,\n",
              " 'Size of each cluster': {0: 1689,\n",
              "  1: 679,\n",
              "  2: 160,\n",
              "  3: 316,\n",
              "  4: 466,\n",
              "  5: 323,\n",
              "  6: 132,\n",
              "  7: 70,\n",
              "  8: 20,\n",
              "  9: 74},\n",
              " 'Value of K': 10}"
            ]
          },
          "metadata": {},
          "execution_count": 49
        }
      ]
    },
    {
      "cell_type": "code",
      "metadata": {
        "colab": {
          "base_uri": "https://localhost:8080/",
          "height": 199
        },
        "id": "RyEILbIGihxu",
        "outputId": "db03c9c4-2fab-440f-8541-3386d6c1e7e7"
      },
      "source": [
        "k_20_dict = k_means_cluster(cleaned_tweets, 20) # runtime approx. 2 minutes\n",
        "table = table.append(k_20_dict, ignore_index=True)\n",
        "table"
      ],
      "execution_count": 50,
      "outputs": [
        {
          "output_type": "stream",
          "name": "stdout",
          "text": [
            "Initial centroids picked\n",
            "Cluster assigned\n",
            "New centroids calculated\n",
            "Cluster assigned\n",
            "New centroids calculated\n",
            "Cluster assigned\n",
            "New centroids calculated\n"
          ]
        },
        {
          "output_type": "execute_result",
          "data": {
            "text/html": [
              "<div>\n",
              "<style scoped>\n",
              "    .dataframe tbody tr th:only-of-type {\n",
              "        vertical-align: middle;\n",
              "    }\n",
              "\n",
              "    .dataframe tbody tr th {\n",
              "        vertical-align: top;\n",
              "    }\n",
              "\n",
              "    .dataframe thead th {\n",
              "        text-align: right;\n",
              "    }\n",
              "</style>\n",
              "<table border=\"1\" class=\"dataframe\">\n",
              "  <thead>\n",
              "    <tr style=\"text-align: right;\">\n",
              "      <th></th>\n",
              "      <th>Value of K</th>\n",
              "      <th>SSE</th>\n",
              "      <th>Size of each cluster</th>\n",
              "    </tr>\n",
              "  </thead>\n",
              "  <tbody>\n",
              "    <tr>\n",
              "      <th>0</th>\n",
              "      <td>20</td>\n",
              "      <td>3165.994578</td>\n",
              "      <td>{0: 1066, 1: 555, 2: 212, 3: 118, 4: 59, 5: 32...</td>\n",
              "    </tr>\n",
              "  </tbody>\n",
              "</table>\n",
              "</div>"
            ],
            "text/plain": [
              "  Value of K          SSE                               Size of each cluster\n",
              "0         20  3165.994578  {0: 1066, 1: 555, 2: 212, 3: 118, 4: 59, 5: 32..."
            ]
          },
          "metadata": {},
          "execution_count": 50
        }
      ]
    },
    {
      "cell_type": "code",
      "metadata": {
        "colab": {
          "base_uri": "https://localhost:8080/"
        },
        "id": "KJa04ju5jUdr",
        "outputId": "30001888-0bfe-4462-ec54-94dbc8b07ab8"
      },
      "source": [
        "k_20_dict"
      ],
      "execution_count": 52,
      "outputs": [
        {
          "output_type": "execute_result",
          "data": {
            "text/plain": [
              "{'SSE': 3165.9945778208366,\n",
              " 'Size of each cluster': {0: 1066,\n",
              "  1: 555,\n",
              "  2: 212,\n",
              "  3: 118,\n",
              "  4: 59,\n",
              "  5: 322,\n",
              "  6: 266,\n",
              "  7: 253,\n",
              "  8: 52,\n",
              "  9: 239,\n",
              "  10: 210,\n",
              "  11: 41,\n",
              "  12: 52,\n",
              "  13: 305,\n",
              "  14: 16,\n",
              "  15: 37,\n",
              "  16: 23,\n",
              "  17: 29,\n",
              "  18: 19,\n",
              "  19: 55},\n",
              " 'Value of K': 20}"
            ]
          },
          "metadata": {},
          "execution_count": 52
        }
      ]
    },
    {
      "cell_type": "code",
      "metadata": {
        "colab": {
          "base_uri": "https://localhost:8080/",
          "height": 298
        },
        "id": "cgm04FKlj_28",
        "outputId": "ce580f02-6fcd-428e-d2a4-905f7fc79576"
      },
      "source": [
        "k_50_dict = k_means_cluster(cleaned_tweets, 50) # runtime approx. 1 minute\n",
        "table = table.append(k_50_dict, ignore_index=True)\n",
        "print(k_50_dict)\n",
        "table"
      ],
      "execution_count": 54,
      "outputs": [
        {
          "output_type": "stream",
          "name": "stdout",
          "text": [
            "Initial centroids picked\n",
            "Cluster assigned\n",
            "New centroids calculated\n",
            "Cluster assigned\n",
            "New centroids calculated\n",
            "Cluster assigned\n",
            "New centroids calculated\n",
            "{'Value of K': 50, 'SSE': 2956.6062790790884, 'Size of each cluster': {1: 634, 2: 111, 3: 93, 4: 7, 5: 42, 6: 35, 7: 324, 8: 97, 9: 17, 10: 112, 11: 25, 12: 32, 13: 49, 14: 44, 15: 25, 16: 18, 17: 4, 18: 34, 19: 59, 20: 224, 21: 65, 22: 212, 23: 100, 24: 14, 25: 21, 26: 62, 27: 49, 28: 9, 29: 229, 30: 29, 31: 138, 32: 23, 33: 20, 34: 24, 35: 17, 36: 93, 37: 10, 38: 43, 39: 58, 40: 119, 41: 103, 42: 47, 43: 88, 44: 9, 45: 22, 46: 8, 47: 61, 48: 183, 49: 44, 50: 43}}\n"
          ]
        },
        {
          "output_type": "execute_result",
          "data": {
            "text/html": [
              "<div>\n",
              "<style scoped>\n",
              "    .dataframe tbody tr th:only-of-type {\n",
              "        vertical-align: middle;\n",
              "    }\n",
              "\n",
              "    .dataframe tbody tr th {\n",
              "        vertical-align: top;\n",
              "    }\n",
              "\n",
              "    .dataframe thead th {\n",
              "        text-align: right;\n",
              "    }\n",
              "</style>\n",
              "<table border=\"1\" class=\"dataframe\">\n",
              "  <thead>\n",
              "    <tr style=\"text-align: right;\">\n",
              "      <th></th>\n",
              "      <th>Value of K</th>\n",
              "      <th>SSE</th>\n",
              "      <th>Size of each cluster</th>\n",
              "    </tr>\n",
              "  </thead>\n",
              "  <tbody>\n",
              "    <tr>\n",
              "      <th>0</th>\n",
              "      <td>20</td>\n",
              "      <td>3165.994578</td>\n",
              "      <td>{0: 1066, 1: 555, 2: 212, 3: 118, 4: 59, 5: 32...</td>\n",
              "    </tr>\n",
              "    <tr>\n",
              "      <th>1</th>\n",
              "      <td>10</td>\n",
              "      <td>3279.904662</td>\n",
              "      <td>{0: 1689, 1: 679, 2: 160, 3: 316, 4: 466, 5: 3...</td>\n",
              "    </tr>\n",
              "    <tr>\n",
              "      <th>2</th>\n",
              "      <td>50</td>\n",
              "      <td>2956.606279</td>\n",
              "      <td>{1: 634, 2: 111, 3: 93, 4: 7, 5: 42, 6: 35, 7:...</td>\n",
              "    </tr>\n",
              "  </tbody>\n",
              "</table>\n",
              "</div>"
            ],
            "text/plain": [
              "  Value of K          SSE                               Size of each cluster\n",
              "0         20  3165.994578  {0: 1066, 1: 555, 2: 212, 3: 118, 4: 59, 5: 32...\n",
              "1         10  3279.904662  {0: 1689, 1: 679, 2: 160, 3: 316, 4: 466, 5: 3...\n",
              "2         50  2956.606279  {1: 634, 2: 111, 3: 93, 4: 7, 5: 42, 6: 35, 7:..."
            ]
          },
          "metadata": {},
          "execution_count": 54
        }
      ]
    },
    {
      "cell_type": "code",
      "metadata": {
        "colab": {
          "base_uri": "https://localhost:8080/",
          "height": 380
        },
        "id": "R99t7GH7kzAR",
        "outputId": "244b289f-9bb2-46e0-9e7c-abcdc87e8695"
      },
      "source": [
        "k_75_dict = k_means_cluster(cleaned_tweets, 75) # runtime approx. 1 minute\n",
        "table = table.append(k_75_dict, ignore_index=True)\n",
        "print(k_75_dict)\n",
        "table"
      ],
      "execution_count": 56,
      "outputs": [
        {
          "output_type": "stream",
          "name": "stdout",
          "text": [
            "Initial centroids picked\n",
            "Cluster assigned\n",
            "New centroids calculated\n",
            "SSE : 2981.7272247368487\n",
            "Cluster assigned\n",
            "New centroids calculated\n",
            "SSE : 2872.8246808665217\n",
            "Cluster assigned\n",
            "New centroids calculated\n",
            "SSE : 2863.884970034587\n",
            "{'Value of K': 75, 'SSE': 2863.884970034587, 'Size of each cluster': {1: 358, 2: 7, 3: 10, 4: 22, 5: 65, 6: 126, 7: 17, 8: 52, 9: 54, 10: 134, 11: 134, 12: 26, 13: 44, 14: 18, 15: 129, 16: 16, 17: 11, 18: 90, 19: 71, 20: 26, 21: 14, 22: 14, 23: 100, 24: 8, 25: 14, 26: 33, 27: 104, 28: 29, 29: 14, 30: 130, 31: 22, 32: 26, 33: 31, 34: 4, 35: 7, 36: 10, 37: 9, 38: 48, 39: 153, 40: 16, 41: 157, 42: 6, 43: 200, 44: 29, 45: 15, 46: 26, 47: 7, 48: 34, 49: 20, 50: 21, 51: 79, 52: 38, 53: 96, 54: 14, 55: 10, 56: 16, 57: 19, 58: 49, 59: 38, 60: 19, 61: 29, 62: 22, 63: 121, 64: 22, 65: 37, 66: 218, 67: 19, 68: 24, 69: 13, 70: 47, 71: 4, 72: 66, 73: 11, 74: 22, 75: 185}}\n"
          ]
        },
        {
          "output_type": "execute_result",
          "data": {
            "text/html": [
              "<div>\n",
              "<style scoped>\n",
              "    .dataframe tbody tr th:only-of-type {\n",
              "        vertical-align: middle;\n",
              "    }\n",
              "\n",
              "    .dataframe tbody tr th {\n",
              "        vertical-align: top;\n",
              "    }\n",
              "\n",
              "    .dataframe thead th {\n",
              "        text-align: right;\n",
              "    }\n",
              "</style>\n",
              "<table border=\"1\" class=\"dataframe\">\n",
              "  <thead>\n",
              "    <tr style=\"text-align: right;\">\n",
              "      <th></th>\n",
              "      <th>Value of K</th>\n",
              "      <th>SSE</th>\n",
              "      <th>Size of each cluster</th>\n",
              "    </tr>\n",
              "  </thead>\n",
              "  <tbody>\n",
              "    <tr>\n",
              "      <th>0</th>\n",
              "      <td>20</td>\n",
              "      <td>3165.994578</td>\n",
              "      <td>{0: 1066, 1: 555, 2: 212, 3: 118, 4: 59, 5: 32...</td>\n",
              "    </tr>\n",
              "    <tr>\n",
              "      <th>1</th>\n",
              "      <td>10</td>\n",
              "      <td>3279.904662</td>\n",
              "      <td>{0: 1689, 1: 679, 2: 160, 3: 316, 4: 466, 5: 3...</td>\n",
              "    </tr>\n",
              "    <tr>\n",
              "      <th>2</th>\n",
              "      <td>50</td>\n",
              "      <td>2956.606279</td>\n",
              "      <td>{1: 634, 2: 111, 3: 93, 4: 7, 5: 42, 6: 35, 7:...</td>\n",
              "    </tr>\n",
              "    <tr>\n",
              "      <th>3</th>\n",
              "      <td>75</td>\n",
              "      <td>2863.884970</td>\n",
              "      <td>{1: 358, 2: 7, 3: 10, 4: 22, 5: 65, 6: 126, 7:...</td>\n",
              "    </tr>\n",
              "  </tbody>\n",
              "</table>\n",
              "</div>"
            ],
            "text/plain": [
              "  Value of K          SSE                               Size of each cluster\n",
              "0         20  3165.994578  {0: 1066, 1: 555, 2: 212, 3: 118, 4: 59, 5: 32...\n",
              "1         10  3279.904662  {0: 1689, 1: 679, 2: 160, 3: 316, 4: 466, 5: 3...\n",
              "2         50  2956.606279  {1: 634, 2: 111, 3: 93, 4: 7, 5: 42, 6: 35, 7:...\n",
              "3         75  2863.884970  {1: 358, 2: 7, 3: 10, 4: 22, 5: 65, 6: 126, 7:..."
            ]
          },
          "metadata": {},
          "execution_count": 56
        }
      ]
    },
    {
      "cell_type": "code",
      "metadata": {
        "colab": {
          "base_uri": "https://localhost:8080/",
          "height": 411
        },
        "id": "r0qeiNw_lM8W",
        "outputId": "d85f164e-32a5-4521-dea8-e462a0b2af03"
      },
      "source": [
        "k_100_dict = k_means_cluster(cleaned_tweets, 100) # runtime approx. 1 minute\n",
        "table = table.append(k_100_dict, ignore_index=True)\n",
        "print(k_100_dict)\n",
        "table"
      ],
      "execution_count": 57,
      "outputs": [
        {
          "output_type": "stream",
          "name": "stdout",
          "text": [
            "Initial centroids picked\n",
            "Cluster assigned\n",
            "New centroids calculated\n",
            "SSE : 2880.152715819818\n",
            "Cluster assigned\n",
            "New centroids calculated\n",
            "SSE : 2800.7582888822503\n",
            "Cluster assigned\n",
            "New centroids calculated\n",
            "SSE : 2797.411761199592\n",
            "{'Value of K': 100, 'SSE': 2797.411761199592, 'Size of each cluster': {1: 286, 2: 6, 3: 14, 4: 31, 5: 15, 6: 44, 7: 27, 8: 39, 9: 77, 10: 6, 11: 11, 12: 60, 13: 35, 14: 105, 15: 10, 16: 323, 17: 149, 18: 34, 19: 23, 20: 17, 21: 40, 22: 24, 23: 26, 24: 35, 25: 7, 26: 96, 27: 38, 28: 3, 29: 4, 30: 9, 31: 10, 32: 71, 33: 22, 34: 47, 35: 4, 36: 11, 37: 90, 38: 13, 39: 65, 40: 7, 41: 59, 42: 67, 43: 10, 44: 55, 45: 15, 46: 30, 47: 132, 48: 40, 49: 12, 50: 8, 51: 179, 52: 26, 53: 175, 54: 10, 55: 46, 56: 51, 57: 56, 58: 11, 59: 18, 60: 25, 61: 6, 62: 14, 63: 5, 64: 10, 65: 14, 66: 14, 67: 99, 68: 46, 69: 34, 70: 14, 71: 15, 72: 83, 73: 3, 74: 8, 75: 18, 76: 10, 77: 11, 78: 6, 79: 57, 80: 28, 81: 2, 82: 26, 83: 35, 84: 79, 85: 22, 86: 47, 87: 12, 88: 36, 89: 43, 90: 24, 91: 14, 92: 20, 93: 5, 94: 14, 95: 10, 96: 43, 97: 4, 98: 10, 99: 6, 100: 23}}\n"
          ]
        },
        {
          "output_type": "execute_result",
          "data": {
            "text/html": [
              "<div>\n",
              "<style scoped>\n",
              "    .dataframe tbody tr th:only-of-type {\n",
              "        vertical-align: middle;\n",
              "    }\n",
              "\n",
              "    .dataframe tbody tr th {\n",
              "        vertical-align: top;\n",
              "    }\n",
              "\n",
              "    .dataframe thead th {\n",
              "        text-align: right;\n",
              "    }\n",
              "</style>\n",
              "<table border=\"1\" class=\"dataframe\">\n",
              "  <thead>\n",
              "    <tr style=\"text-align: right;\">\n",
              "      <th></th>\n",
              "      <th>Value of K</th>\n",
              "      <th>SSE</th>\n",
              "      <th>Size of each cluster</th>\n",
              "    </tr>\n",
              "  </thead>\n",
              "  <tbody>\n",
              "    <tr>\n",
              "      <th>0</th>\n",
              "      <td>20</td>\n",
              "      <td>3165.994578</td>\n",
              "      <td>{0: 1066, 1: 555, 2: 212, 3: 118, 4: 59, 5: 32...</td>\n",
              "    </tr>\n",
              "    <tr>\n",
              "      <th>1</th>\n",
              "      <td>10</td>\n",
              "      <td>3279.904662</td>\n",
              "      <td>{0: 1689, 1: 679, 2: 160, 3: 316, 4: 466, 5: 3...</td>\n",
              "    </tr>\n",
              "    <tr>\n",
              "      <th>2</th>\n",
              "      <td>50</td>\n",
              "      <td>2956.606279</td>\n",
              "      <td>{1: 634, 2: 111, 3: 93, 4: 7, 5: 42, 6: 35, 7:...</td>\n",
              "    </tr>\n",
              "    <tr>\n",
              "      <th>3</th>\n",
              "      <td>75</td>\n",
              "      <td>2863.884970</td>\n",
              "      <td>{1: 358, 2: 7, 3: 10, 4: 22, 5: 65, 6: 126, 7:...</td>\n",
              "    </tr>\n",
              "    <tr>\n",
              "      <th>4</th>\n",
              "      <td>100</td>\n",
              "      <td>2797.411761</td>\n",
              "      <td>{1: 286, 2: 6, 3: 14, 4: 31, 5: 15, 6: 44, 7: ...</td>\n",
              "    </tr>\n",
              "  </tbody>\n",
              "</table>\n",
              "</div>"
            ],
            "text/plain": [
              "  Value of K          SSE                               Size of each cluster\n",
              "0         20  3165.994578  {0: 1066, 1: 555, 2: 212, 3: 118, 4: 59, 5: 32...\n",
              "1         10  3279.904662  {0: 1689, 1: 679, 2: 160, 3: 316, 4: 466, 5: 3...\n",
              "2         50  2956.606279  {1: 634, 2: 111, 3: 93, 4: 7, 5: 42, 6: 35, 7:...\n",
              "3         75  2863.884970  {1: 358, 2: 7, 3: 10, 4: 22, 5: 65, 6: 126, 7:...\n",
              "4        100  2797.411761  {1: 286, 2: 6, 3: 14, 4: 31, 5: 15, 6: 44, 7: ..."
            ]
          },
          "metadata": {},
          "execution_count": 57
        }
      ]
    },
    {
      "cell_type": "code",
      "metadata": {
        "colab": {
          "base_uri": "https://localhost:8080/",
          "height": 595
        },
        "id": "bKwQmnfslxDo",
        "outputId": "aa61ec74-b403-4630-e821-c0e2cb261a9a"
      },
      "source": [
        "k_200_dict = k_means_cluster(cleaned_tweets, 200) # runtime approx. 2 minutes\n",
        "table = table.append(k_200_dict, ignore_index=True)\n",
        "print(k_200_dict)\n",
        "table"
      ],
      "execution_count": 58,
      "outputs": [
        {
          "output_type": "stream",
          "name": "stdout",
          "text": [
            "Initial centroids picked\n",
            "Cluster assigned\n",
            "New centroids calculated\n",
            "SSE : 2657.9659112467966\n",
            "Cluster assigned\n",
            "New centroids calculated\n",
            "SSE : 2602.8524768320613\n",
            "Cluster assigned\n",
            "New centroids calculated\n",
            "SSE : 2592.0857182769487\n",
            "Cluster assigned\n",
            "New centroids calculated\n",
            "SSE : 2590.9611364740717\n",
            "Cluster assigned\n",
            "New centroids calculated\n",
            "SSE : 2588.1119708875726\n",
            "Cluster assigned\n",
            "New centroids calculated\n",
            "SSE : 2587.6209763383895\n",
            "{'Value of K': 200, 'SSE': 2587.6209763383895, 'Size of each cluster': {1: 199, 2: 43, 3: 11, 4: 13, 5: 115, 6: 71, 7: 53, 8: 13, 9: 12, 10: 26, 11: 18, 12: 39, 13: 71, 14: 27, 15: 9, 16: 2, 17: 3, 18: 11, 19: 154, 20: 3, 21: 19, 22: 6, 23: 11, 24: 48, 25: 3, 26: 36, 27: 3, 28: 34, 29: 8, 30: 41, 31: 40, 32: 11, 33: 9, 34: 88, 35: 11, 36: 118, 37: 14, 38: 26, 39: 6, 40: 58, 41: 56, 42: 3, 43: 18, 44: 3, 45: 21, 46: 19, 47: 27, 48: 104, 49: 36, 50: 21, 51: 14, 52: 33, 53: 8, 54: 1, 55: 24, 56: 5, 57: 40, 58: 14, 59: 87, 60: 4, 61: 11, 62: 16, 63: 6, 64: 104, 65: 14, 66: 18, 67: 16, 68: 9, 69: 19, 70: 35, 71: 24, 72: 17, 73: 4, 74: 13, 75: 12, 76: 7, 77: 10, 78: 6, 79: 8, 80: 13, 81: 8, 82: 3, 83: 6, 84: 11, 85: 16, 86: 15, 87: 5, 88: 17, 89: 13, 90: 28, 91: 3, 92: 7, 93: 13, 94: 4, 95: 41, 96: 20, 97: 22, 98: 8, 99: 5, 100: 10, 101: 13, 102: 4, 103: 10, 104: 12, 105: 21, 106: 3, 107: 5, 108: 11, 109: 1, 110: 2, 111: 6, 112: 72, 113: 2, 114: 6, 115: 5, 116: 14, 117: 7, 118: 3, 119: 7, 120: 11, 121: 8, 122: 12, 123: 30, 124: 30, 125: 14, 126: 4, 127: 2, 128: 22, 129: 9, 130: 6, 131: 2, 132: 42, 133: 6, 134: 17, 135: 11, 136: 7, 137: 9, 138: 11, 139: 10, 140: 68, 141: 28, 142: 104, 143: 11, 144: 9, 145: 5, 146: 10, 147: 12, 148: 4, 149: 15, 150: 4, 151: 8, 152: 23, 153: 18, 154: 9, 155: 21, 156: 5, 157: 3, 158: 4, 159: 2, 160: 6, 161: 10, 162: 6, 163: 8, 164: 7, 165: 11, 166: 11, 167: 4, 168: 9, 169: 11, 170: 13, 171: 5, 172: 10, 173: 32, 174: 7, 175: 33, 176: 35, 177: 9, 178: 22, 179: 4, 180: 15, 181: 4, 182: 19, 183: 10, 184: 16, 185: 7, 186: 1, 187: 7, 188: 10, 189: 11, 190: 3, 191: 24, 192: 6, 193: 37, 194: 2, 195: 7, 196: 8, 197: 3, 198: 3, 199: 5, 200: 10}}\n"
          ]
        },
        {
          "output_type": "execute_result",
          "data": {
            "text/html": [
              "<div>\n",
              "<style scoped>\n",
              "    .dataframe tbody tr th:only-of-type {\n",
              "        vertical-align: middle;\n",
              "    }\n",
              "\n",
              "    .dataframe tbody tr th {\n",
              "        vertical-align: top;\n",
              "    }\n",
              "\n",
              "    .dataframe thead th {\n",
              "        text-align: right;\n",
              "    }\n",
              "</style>\n",
              "<table border=\"1\" class=\"dataframe\">\n",
              "  <thead>\n",
              "    <tr style=\"text-align: right;\">\n",
              "      <th></th>\n",
              "      <th>Value of K</th>\n",
              "      <th>SSE</th>\n",
              "      <th>Size of each cluster</th>\n",
              "    </tr>\n",
              "  </thead>\n",
              "  <tbody>\n",
              "    <tr>\n",
              "      <th>0</th>\n",
              "      <td>20</td>\n",
              "      <td>3165.994578</td>\n",
              "      <td>{0: 1066, 1: 555, 2: 212, 3: 118, 4: 59, 5: 32...</td>\n",
              "    </tr>\n",
              "    <tr>\n",
              "      <th>1</th>\n",
              "      <td>10</td>\n",
              "      <td>3279.904662</td>\n",
              "      <td>{0: 1689, 1: 679, 2: 160, 3: 316, 4: 466, 5: 3...</td>\n",
              "    </tr>\n",
              "    <tr>\n",
              "      <th>2</th>\n",
              "      <td>50</td>\n",
              "      <td>2956.606279</td>\n",
              "      <td>{1: 634, 2: 111, 3: 93, 4: 7, 5: 42, 6: 35, 7:...</td>\n",
              "    </tr>\n",
              "    <tr>\n",
              "      <th>3</th>\n",
              "      <td>75</td>\n",
              "      <td>2863.884970</td>\n",
              "      <td>{1: 358, 2: 7, 3: 10, 4: 22, 5: 65, 6: 126, 7:...</td>\n",
              "    </tr>\n",
              "    <tr>\n",
              "      <th>4</th>\n",
              "      <td>100</td>\n",
              "      <td>2797.411761</td>\n",
              "      <td>{1: 286, 2: 6, 3: 14, 4: 31, 5: 15, 6: 44, 7: ...</td>\n",
              "    </tr>\n",
              "    <tr>\n",
              "      <th>5</th>\n",
              "      <td>200</td>\n",
              "      <td>2587.620976</td>\n",
              "      <td>{1: 199, 2: 43, 3: 11, 4: 13, 5: 115, 6: 71, 7...</td>\n",
              "    </tr>\n",
              "  </tbody>\n",
              "</table>\n",
              "</div>"
            ],
            "text/plain": [
              "  Value of K          SSE                               Size of each cluster\n",
              "0         20  3165.994578  {0: 1066, 1: 555, 2: 212, 3: 118, 4: 59, 5: 32...\n",
              "1         10  3279.904662  {0: 1689, 1: 679, 2: 160, 3: 316, 4: 466, 5: 3...\n",
              "2         50  2956.606279  {1: 634, 2: 111, 3: 93, 4: 7, 5: 42, 6: 35, 7:...\n",
              "3         75  2863.884970  {1: 358, 2: 7, 3: 10, 4: 22, 5: 65, 6: 126, 7:...\n",
              "4        100  2797.411761  {1: 286, 2: 6, 3: 14, 4: 31, 5: 15, 6: 44, 7: ...\n",
              "5        200  2587.620976  {1: 199, 2: 43, 3: 11, 4: 13, 5: 115, 6: 71, 7..."
            ]
          },
          "metadata": {},
          "execution_count": 58
        }
      ]
    },
    {
      "cell_type": "code",
      "metadata": {
        "colab": {
          "base_uri": "https://localhost:8080/",
          "height": 626
        },
        "id": "XKa2pneBmGZO",
        "outputId": "908feeee-fef9-413e-ac44-e17d0e07c887"
      },
      "source": [
        "k_500_dict = k_means_cluster(cleaned_tweets, 500) # runtime approx. 5 minutes\n",
        "table = table.append(k_500_dict, ignore_index=True)\n",
        "print(k_500_dict)\n",
        "table"
      ],
      "execution_count": 59,
      "outputs": [
        {
          "output_type": "stream",
          "name": "stdout",
          "text": [
            "Initial centroids picked\n",
            "Cluster assigned\n",
            "New centroids calculated\n",
            "SSE : 2278.444182942876\n",
            "Cluster assigned\n",
            "New centroids calculated\n",
            "SSE : 2220.403787579672\n",
            "Cluster assigned\n",
            "New centroids calculated\n",
            "SSE : 2207.763254100611\n",
            "Cluster assigned\n",
            "New centroids calculated\n",
            "SSE : 2202.691794662369\n",
            "Cluster assigned\n",
            "New centroids calculated\n",
            "SSE : 2200.832655996093\n",
            "Cluster assigned\n",
            "New centroids calculated\n",
            "SSE : 2199.1060343908016\n",
            "{'Value of K': 500, 'SSE': 2199.1060343908016, 'Size of each cluster': {1: 38, 2: 12, 3: 4, 4: 15, 5: 7, 6: 18, 7: 8, 8: 32, 9: 9, 10: 4, 11: 13, 12: 1, 13: 14, 14: 3, 15: 3, 16: 17, 17: 34, 18: 14, 19: 1, 20: 5, 21: 2, 22: 2, 23: 7, 24: 21, 25: 5, 26: 6, 27: 9, 28: 5, 29: 5, 30: 10, 31: 4, 32: 4, 33: 8, 34: 4, 35: 5, 36: 10, 37: 7, 38: 1, 39: 6, 40: 8, 41: 1, 42: 18, 43: 66, 44: 4, 45: 8, 46: 4, 47: 4, 48: 1, 49: 15, 50: 3, 51: 14, 52: 11, 53: 19, 54: 5, 55: 3, 56: 17, 57: 1, 58: 1, 59: 18, 60: 18, 61: 29, 62: 23, 63: 7, 64: 10, 65: 13, 66: 4, 67: 15, 68: 11, 69: 12, 70: 30, 71: 3, 72: 2, 73: 4, 74: 5, 75: 7, 76: 2, 77: 6, 78: 8, 79: 8, 80: 3, 81: 11, 82: 3, 83: 19, 84: 11, 85: 7, 86: 28, 87: 5, 88: 1, 89: 30, 90: 4, 91: 2, 92: 15, 93: 5, 94: 13, 95: 5, 96: 4, 97: 5, 98: 3, 99: 9, 100: 3, 101: 1, 102: 3, 103: 1, 104: 7, 105: 46, 106: 8, 107: 13, 108: 7, 109: 4, 110: 10, 111: 7, 112: 4, 113: 2, 114: 9, 115: 6, 116: 7, 117: 9, 118: 13, 119: 5, 120: 9, 121: 3, 122: 5, 123: 1, 124: 12, 125: 18, 126: 3, 127: 1, 128: 22, 129: 18, 130: 8, 131: 17, 132: 6, 133: 1, 134: 29, 135: 3, 136: 20, 137: 5, 138: 5, 139: 5, 140: 7, 141: 3, 142: 11, 143: 7, 144: 7, 145: 12, 146: 64, 147: 11, 148: 6, 149: 5, 150: 4, 151: 9, 152: 3, 153: 8, 154: 1, 155: 4, 156: 17, 157: 29, 158: 4, 159: 3, 160: 43, 161: 6, 162: 1, 163: 11, 164: 4, 165: 2, 166: 11, 167: 29, 168: 9, 169: 5, 170: 7, 171: 3, 172: 15, 173: 2, 174: 9, 175: 11, 176: 5, 177: 7, 178: 8, 179: 2, 180: 6, 181: 6, 182: 1, 183: 19, 184: 5, 185: 5, 186: 14, 187: 5, 188: 12, 189: 1, 190: 7, 191: 21, 192: 3, 193: 6, 194: 15, 195: 1, 196: 14, 197: 1, 198: 73, 199: 1, 200: 5, 201: 3, 202: 1, 203: 10, 204: 6, 205: 2, 206: 11, 207: 1, 208: 5, 209: 35, 210: 3, 211: 3, 212: 1, 213: 6, 214: 6, 215: 13, 216: 5, 217: 3, 218: 7, 219: 25, 220: 5, 221: 6, 222: 2, 223: 6, 224: 8, 225: 7, 226: 8, 227: 8, 228: 15, 229: 3, 230: 5, 231: 14, 232: 5, 233: 7, 234: 33, 235: 4, 236: 1, 237: 1, 238: 11, 239: 4, 240: 5, 241: 2, 242: 4, 243: 4, 244: 4, 245: 4, 246: 8, 247: 4, 248: 2, 249: 1, 250: 51, 251: 6, 252: 5, 253: 1, 254: 4, 255: 1, 256: 9, 257: 1, 258: 4, 259: 9, 260: 9, 261: 9, 262: 2, 263: 5, 264: 6, 265: 1, 266: 8, 267: 1, 268: 6, 269: 22, 270: 7, 271: 2, 272: 5, 273: 7, 274: 5, 275: 8, 276: 10, 277: 2, 278: 1, 279: 5, 280: 15, 281: 1, 282: 6, 283: 4, 284: 5, 285: 5, 286: 6, 287: 1, 288: 9, 289: 1, 290: 4, 291: 4, 292: 1, 293: 4, 294: 8, 295: 6, 296: 9, 297: 5, 298: 3, 299: 52, 300: 28, 301: 1, 302: 2, 303: 3, 304: 10, 305: 1, 306: 7, 307: 7, 308: 1, 309: 7, 310: 8, 311: 4, 312: 7, 313: 4, 314: 9, 315: 19, 316: 13, 317: 5, 318: 9, 319: 4, 320: 9, 321: 3, 322: 17, 323: 1, 324: 8, 325: 13, 326: 2, 327: 1, 328: 8, 329: 7, 330: 3, 331: 3, 332: 1, 333: 4, 334: 1, 335: 1, 336: 1, 337: 25, 338: 7, 339: 3, 340: 2, 341: 3, 342: 6, 343: 6, 344: 8, 345: 9, 346: 14, 347: 8, 348: 3, 349: 1, 350: 3, 351: 1, 352: 1, 353: 7, 354: 15, 355: 1, 356: 12, 357: 8, 358: 18, 359: 5, 360: 6, 361: 4, 362: 10, 363: 3, 364: 3, 365: 1, 366: 8, 367: 9, 368: 11, 369: 1, 370: 6, 371: 3, 372: 1, 373: 8, 374: 1, 375: 7, 376: 2, 377: 5, 378: 4, 379: 1, 380: 6, 381: 2, 382: 27, 383: 3, 384: 7, 385: 18, 386: 6, 387: 2, 388: 29, 389: 4, 390: 1, 391: 5, 392: 1, 393: 13, 394: 10, 395: 10, 396: 2, 397: 6, 398: 9, 399: 6, 400: 2, 401: 4, 402: 2, 403: 1, 404: 6, 405: 7, 406: 3, 407: 3, 408: 3, 409: 22, 410: 4, 411: 1, 412: 9, 413: 9, 414: 3, 415: 4, 416: 7, 417: 1, 418: 12, 419: 6, 420: 4, 421: 17, 422: 2, 423: 16, 424: 8, 425: 1, 426: 7, 427: 2, 428: 1, 429: 4, 430: 3, 431: 4, 432: 12, 433: 6, 434: 1, 435: 1, 436: 7, 437: 12, 438: 1, 439: 2, 440: 13, 441: 9, 442: 1, 443: 1, 444: 1, 445: 3, 446: 8, 447: 6, 448: 3, 449: 3, 450: 6, 451: 1, 452: 3, 453: 5, 454: 3, 455: 3, 456: 7, 457: 1, 458: 1, 459: 5, 460: 4, 461: 2, 462: 4, 463: 7, 464: 3, 465: 14, 466: 18, 467: 3, 468: 2, 469: 5, 470: 5, 471: 1, 472: 12, 473: 1, 474: 1, 475: 1, 476: 6, 477: 6, 478: 9, 479: 10, 480: 8, 481: 49, 482: 4, 483: 8, 484: 1, 485: 6, 486: 7, 487: 7, 488: 6, 489: 6, 490: 6, 491: 3, 492: 26, 493: 1, 494: 3, 495: 4, 496: 7, 497: 6, 498: 12, 499: 5, 500: 4}}\n"
          ]
        },
        {
          "output_type": "execute_result",
          "data": {
            "text/html": [
              "<div>\n",
              "<style scoped>\n",
              "    .dataframe tbody tr th:only-of-type {\n",
              "        vertical-align: middle;\n",
              "    }\n",
              "\n",
              "    .dataframe tbody tr th {\n",
              "        vertical-align: top;\n",
              "    }\n",
              "\n",
              "    .dataframe thead th {\n",
              "        text-align: right;\n",
              "    }\n",
              "</style>\n",
              "<table border=\"1\" class=\"dataframe\">\n",
              "  <thead>\n",
              "    <tr style=\"text-align: right;\">\n",
              "      <th></th>\n",
              "      <th>Value of K</th>\n",
              "      <th>SSE</th>\n",
              "      <th>Size of each cluster</th>\n",
              "    </tr>\n",
              "  </thead>\n",
              "  <tbody>\n",
              "    <tr>\n",
              "      <th>0</th>\n",
              "      <td>20</td>\n",
              "      <td>3165.994578</td>\n",
              "      <td>{0: 1066, 1: 555, 2: 212, 3: 118, 4: 59, 5: 32...</td>\n",
              "    </tr>\n",
              "    <tr>\n",
              "      <th>1</th>\n",
              "      <td>10</td>\n",
              "      <td>3279.904662</td>\n",
              "      <td>{0: 1689, 1: 679, 2: 160, 3: 316, 4: 466, 5: 3...</td>\n",
              "    </tr>\n",
              "    <tr>\n",
              "      <th>2</th>\n",
              "      <td>50</td>\n",
              "      <td>2956.606279</td>\n",
              "      <td>{1: 634, 2: 111, 3: 93, 4: 7, 5: 42, 6: 35, 7:...</td>\n",
              "    </tr>\n",
              "    <tr>\n",
              "      <th>3</th>\n",
              "      <td>75</td>\n",
              "      <td>2863.884970</td>\n",
              "      <td>{1: 358, 2: 7, 3: 10, 4: 22, 5: 65, 6: 126, 7:...</td>\n",
              "    </tr>\n",
              "    <tr>\n",
              "      <th>4</th>\n",
              "      <td>100</td>\n",
              "      <td>2797.411761</td>\n",
              "      <td>{1: 286, 2: 6, 3: 14, 4: 31, 5: 15, 6: 44, 7: ...</td>\n",
              "    </tr>\n",
              "    <tr>\n",
              "      <th>5</th>\n",
              "      <td>200</td>\n",
              "      <td>2587.620976</td>\n",
              "      <td>{1: 199, 2: 43, 3: 11, 4: 13, 5: 115, 6: 71, 7...</td>\n",
              "    </tr>\n",
              "    <tr>\n",
              "      <th>6</th>\n",
              "      <td>500</td>\n",
              "      <td>2199.106034</td>\n",
              "      <td>{1: 38, 2: 12, 3: 4, 4: 15, 5: 7, 6: 18, 7: 8,...</td>\n",
              "    </tr>\n",
              "  </tbody>\n",
              "</table>\n",
              "</div>"
            ],
            "text/plain": [
              "  Value of K          SSE                               Size of each cluster\n",
              "0         20  3165.994578  {0: 1066, 1: 555, 2: 212, 3: 118, 4: 59, 5: 32...\n",
              "1         10  3279.904662  {0: 1689, 1: 679, 2: 160, 3: 316, 4: 466, 5: 3...\n",
              "2         50  2956.606279  {1: 634, 2: 111, 3: 93, 4: 7, 5: 42, 6: 35, 7:...\n",
              "3         75  2863.884970  {1: 358, 2: 7, 3: 10, 4: 22, 5: 65, 6: 126, 7:...\n",
              "4        100  2797.411761  {1: 286, 2: 6, 3: 14, 4: 31, 5: 15, 6: 44, 7: ...\n",
              "5        200  2587.620976  {1: 199, 2: 43, 3: 11, 4: 13, 5: 115, 6: 71, 7...\n",
              "6        500  2199.106034  {1: 38, 2: 12, 3: 4, 4: 15, 5: 7, 6: 18, 7: 8,..."
            ]
          },
          "metadata": {},
          "execution_count": 59
        }
      ]
    },
    {
      "cell_type": "code",
      "metadata": {
        "id": "-RzenPaml3Dc"
      },
      "source": [
        "table.to_excel('table.xlsx')"
      ],
      "execution_count": 60,
      "outputs": []
    }
  ]
}